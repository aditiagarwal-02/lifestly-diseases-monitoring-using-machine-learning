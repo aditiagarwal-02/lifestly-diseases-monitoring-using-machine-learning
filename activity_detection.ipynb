{
 "cells": [
  {
   "cell_type": "code",
   "execution_count": null,
   "id": "72be6a86",
   "metadata": {
    "execution": {
     "iopub.execute_input": "2023-06-09T13:28:04.539724Z",
     "iopub.status.busy": "2023-06-09T13:28:04.539029Z",
     "iopub.status.idle": "2023-06-09T13:28:06.359658Z",
     "shell.execute_reply": "2023-06-09T13:28:06.358467Z"
    },
    "papermill": {
     "duration": 1.840008,
     "end_time": "2023-06-09T13:28:06.362372",
     "exception": false,
     "start_time": "2023-06-09T13:28:04.522364",
     "status": "completed"
    },
    "tags": []
   },
   "outputs": [],
   "source": [
    "import matplotlib.pyplot as plt\n",
    "from mpl_toolkits.mplot3d import Axes3D\n",
    "import seaborn as sns\n",
    "import numpy as np\n",
    "\n",
    "from sklearn.model_selection import train_test_split\n",
    "from sklearn.decomposition import PCA\n",
    "from sklearn import metrics"
   ]
  },
  {
   "cell_type": "code",
   "execution_count": null,
   "id": "fc1d6a29",
   "metadata": {
    "execution": {
     "iopub.execute_input": "2023-06-09T13:28:06.394062Z",
     "iopub.status.busy": "2023-06-09T13:28:06.393676Z",
     "iopub.status.idle": "2023-06-09T13:28:08.409374Z",
     "shell.execute_reply": "2023-06-09T13:28:08.408259Z"
    },
    "papermill": {
     "duration": 2.034765,
     "end_time": "2023-06-09T13:28:08.412260",
     "exception": false,
     "start_time": "2023-06-09T13:28:06.377495",
     "status": "completed"
    },
    "tags": []
   },
   "outputs": [],
   "source": [
    "train_df = pd.read_csv(\"/kaggle/input/human-activity-recognition-with-smartphones/train.csv\")\n",
    "test_df = pd.read_csv(\"/kaggle/input/human-activity-recognition-with-smartphones/test.csv\")"
   ]
  },
  {
   "cell_type": "code",
   "execution_count": null,
   "id": "fdcdcd53",
   "metadata": {
    "execution": {
     "iopub.execute_input": "2023-06-09T13:28:08.445224Z",
     "iopub.status.busy": "2023-06-09T13:28:08.444039Z",
     "iopub.status.idle": "2023-06-09T13:28:08.449782Z",
     "shell.execute_reply": "2023-06-09T13:28:08.448791Z"
    },
    "papermill": {
     "duration": 0.024724,
     "end_time": "2023-06-09T13:28:08.452176",
     "exception": false,
     "start_time": "2023-06-09T13:28:08.427452",
     "status": "completed"
    },
    "tags": []
   },
   "outputs": [],
   "source": [
    "print(train_df.shape)\n",
    "print(test_df.shape)"
   ]
  },
  {
   "cell_type": "code",
   "execution_count": null,
   "id": "69d0c6b3",
   "metadata": {
    "execution": {
     "iopub.execute_input": "2023-06-09T13:28:08.485640Z",
     "iopub.status.busy": "2023-06-09T13:28:08.484872Z",
     "iopub.status.idle": "2023-06-09T13:28:08.541470Z",
     "shell.execute_reply": "2023-06-09T13:28:08.540567Z"
    },
    "papermill": {
     "duration": 0.075446,
     "end_time": "2023-06-09T13:28:08.543932",
     "exception": false,
     "start_time": "2023-06-09T13:28:08.468486",
     "status": "completed"
    },
    "tags": []
   },
   "outputs": [],
   "source": [
    "train_df.head(10)"
   ]
  },
  {
   "cell_type": "code",
   "execution_count": null,
   "id": "613ebb04",
   "metadata": {
    "execution": {
     "iopub.execute_input": "2023-06-09T13:28:08.578536Z",
     "iopub.status.busy": "2023-06-09T13:28:08.577817Z",
     "iopub.status.idle": "2023-06-09T13:28:08.609159Z",
     "shell.execute_reply": "2023-06-09T13:28:08.607987Z"
    },
    "papermill": {
     "duration": 0.051625,
     "end_time": "2023-06-09T13:28:08.611468",
     "exception": false,
     "start_time": "2023-06-09T13:28:08.559843",
     "status": "completed"
    },
    "tags": []
   },
   "outputs": [],
   "source": [
    "test_df.head(10)"
   ]
  },
  {
   "cell_type": "markdown",
   "id": "0a5e7ee7",
   "metadata": {
    "papermill": {
     "duration": 0.016054,
     "end_time": "2023-06-09T13:28:08.644106",
     "exception": false,
     "start_time": "2023-06-09T13:28:08.628052",
     "status": "completed"
    },
    "tags": []
   },
   "source": [
    "# Pre Processings"
   ]
  },
  {
   "cell_type": "code",
   "execution_count": null,
   "id": "24f6de31",
   "metadata": {
    "execution": {
     "iopub.execute_input": "2023-06-09T13:28:08.679136Z",
     "iopub.status.busy": "2023-06-09T13:28:08.678093Z",
     "iopub.status.idle": "2023-06-09T13:28:08.708414Z",
     "shell.execute_reply": "2023-06-09T13:28:08.706445Z"
    },
    "papermill": {
     "duration": 0.050273,
     "end_time": "2023-06-09T13:28:08.710807",
     "exception": false,
     "start_time": "2023-06-09T13:28:08.660534",
     "status": "completed"
    },
    "tags": []
   },
   "outputs": [],
   "source": [
    "print(train_df.isnull().sum().values)\n",
    "print(test_df.isnull().sum().values)"
   ]
  },
  {
   "cell_type": "code",
   "execution_count": null,
   "id": "e194c3e8",
   "metadata": {
    "execution": {
     "iopub.execute_input": "2023-06-09T13:28:08.745910Z",
     "iopub.status.busy": "2023-06-09T13:28:08.745541Z",
     "iopub.status.idle": "2023-06-09T13:28:08.787331Z",
     "shell.execute_reply": "2023-06-09T13:28:08.786014Z"
    },
    "papermill": {
     "duration": 0.062068,
     "end_time": "2023-06-09T13:28:08.789751",
     "exception": false,
     "start_time": "2023-06-09T13:28:08.727683",
     "status": "completed"
    },
    "tags": []
   },
   "outputs": [],
   "source": [
    "train_features = train_df.drop([\"Activity\", \"subject\"], axis=1)\n",
    "test_features = test_df.drop([\"Activity\", \"subject\"], axis=1)\n",
    "\n",
    "train_labels = train_df[\"Activity\"].replace(['LAYING', 'SITTING', 'STANDING', 'WALKING', 'WALKING_DOWNSTAIRS', 'WALKING_UPSTAIRS'],  [0, 1, 2, 3, 4, 5])\n",
    "test_labels = test_df[\"Activity\"].replace(['LAYING', 'SITTING', 'STANDING', 'WALKING', 'WALKING_DOWNSTAIRS', 'WALKING_UPSTAIRS'],  [0, 1, 2, 3, 4, 5])\n",
    "\n",
    "print(train_features.shape)\n",
    "print(test_features.shape)\n",
    "\n",
    "print(train_labels.shape)\n",
    "print(test_labels.shape)"
   ]
  },
  {
   "cell_type": "code",
   "execution_count": null,
   "id": "9bae1a39",
   "metadata": {
    "execution": {
     "iopub.execute_input": "2023-06-09T13:28:08.825115Z",
     "iopub.status.busy": "2023-06-09T13:28:08.824755Z",
     "iopub.status.idle": "2023-06-09T13:28:08.831856Z",
     "shell.execute_reply": "2023-06-09T13:28:08.831058Z"
    },
    "papermill": {
     "duration": 0.027676,
     "end_time": "2023-06-09T13:28:08.834103",
     "exception": false,
     "start_time": "2023-06-09T13:28:08.806427",
     "status": "completed"
    },
    "tags": []
   },
   "outputs": [],
   "source": [
    "columns = train_df.columns\n",
    "print(columns.shape)\n",
    "columns"
   ]
  },
  {
   "cell_type": "code",
   "execution_count": null,
   "id": "2dd3e194",
   "metadata": {
    "execution": {
     "iopub.execute_input": "2023-06-09T13:28:08.868884Z",
     "iopub.status.busy": "2023-06-09T13:28:08.868488Z",
     "iopub.status.idle": "2023-06-09T13:28:08.876022Z",
     "shell.execute_reply": "2023-06-09T13:28:08.875038Z"
    },
    "papermill": {
     "duration": 0.027601,
     "end_time": "2023-06-09T13:28:08.878313",
     "exception": false,
     "start_time": "2023-06-09T13:28:08.850712",
     "status": "completed"
    },
    "tags": []
   },
   "outputs": [],
   "source": [
    "mean_X = []\n",
    "mean_Y = []\n",
    "mean_Z = []\n",
    "for i in columns:\n",
    "    if \"mean\" in i:\n",
    "        if \"X\" in i:\n",
    "            mean_X.append(i)\n",
    "        elif \"Y\" in i:\n",
    "            mean_Y.append(i)\n",
    "        elif \"Z\" in i:\n",
    "            mean_Z.append(i)\n",
    "        \n",
    "print(mean_X)\n",
    "print(mean_Y)\n",
    "print(mean_Z)"
   ]
  },
  {
   "cell_type": "code",
   "execution_count": null,
   "id": "11fec102",
   "metadata": {
    "execution": {
     "iopub.execute_input": "2023-06-09T13:28:08.913311Z",
     "iopub.status.busy": "2023-06-09T13:28:08.912904Z",
     "iopub.status.idle": "2023-06-09T13:28:08.920499Z",
     "shell.execute_reply": "2023-06-09T13:28:08.919273Z"
    },
    "papermill": {
     "duration": 0.028266,
     "end_time": "2023-06-09T13:28:08.923131",
     "exception": false,
     "start_time": "2023-06-09T13:28:08.894865",
     "status": "completed"
    },
    "tags": []
   },
   "outputs": [],
   "source": [
    "min_X = []\n",
    "min_Y = []\n",
    "min_Z = []\n",
    "\n",
    "for i in columns:\n",
    "    if \"min\" in i:\n",
    "        if \"X\" in i:\n",
    "            min_X.append(i)\n",
    "        elif \"Y\" in i:\n",
    "            min_Y.append(i)\n",
    "        elif \"Z\" in i:\n",
    "            min_Z.append(i)\n",
    "        \n",
    "print(min_X)\n",
    "print(min_Y)\n",
    "print(min_Z)"
   ]
  },
  {
   "cell_type": "code",
   "execution_count": null,
   "id": "f8f31d12",
   "metadata": {
    "execution": {
     "iopub.execute_input": "2023-06-09T13:28:08.958883Z",
     "iopub.status.busy": "2023-06-09T13:28:08.958520Z",
     "iopub.status.idle": "2023-06-09T13:28:08.976346Z",
     "shell.execute_reply": "2023-06-09T13:28:08.975262Z"
    },
    "papermill": {
     "duration": 0.038372,
     "end_time": "2023-06-09T13:28:08.978539",
     "exception": false,
     "start_time": "2023-06-09T13:28:08.940167",
     "status": "completed"
    },
    "tags": []
   },
   "outputs": [],
   "source": [
    "train_df.isna().sum()"
   ]
  },
  {
   "cell_type": "code",
   "execution_count": null,
   "id": "a9b859bb",
   "metadata": {
    "execution": {
     "iopub.execute_input": "2023-06-09T13:28:09.014859Z",
     "iopub.status.busy": "2023-06-09T13:28:09.014469Z",
     "iopub.status.idle": "2023-06-09T13:28:09.050484Z",
     "shell.execute_reply": "2023-06-09T13:28:09.049406Z"
    },
    "papermill": {
     "duration": 0.057033,
     "end_time": "2023-06-09T13:28:09.052855",
     "exception": false,
     "start_time": "2023-06-09T13:28:08.995822",
     "status": "completed"
    },
    "tags": []
   },
   "outputs": [],
   "source": [
    "train_df.isna()"
   ]
  },
  {
   "cell_type": "markdown",
   "id": "875b76c6",
   "metadata": {
    "papermill": {
     "duration": 0.018027,
     "end_time": "2023-06-09T13:28:09.089164",
     "exception": false,
     "start_time": "2023-06-09T13:28:09.071137",
     "status": "completed"
    },
    "tags": []
   },
   "source": [
    "# Visulalizations"
   ]
  },
  {
   "cell_type": "code",
   "execution_count": null,
   "id": "d9a119d0",
   "metadata": {
    "execution": {
     "iopub.execute_input": "2023-06-09T13:28:09.126937Z",
     "iopub.status.busy": "2023-06-09T13:28:09.126529Z",
     "iopub.status.idle": "2023-06-09T13:28:09.450855Z",
     "shell.execute_reply": "2023-06-09T13:28:09.449801Z"
    },
    "papermill": {
     "duration": 0.34616,
     "end_time": "2023-06-09T13:28:09.453266",
     "exception": false,
     "start_time": "2023-06-09T13:28:09.107106",
     "status": "completed"
    },
    "tags": []
   },
   "outputs": [],
   "source": [
    "plt.figure(figsize=(12,6))\n",
    "axis=sns.countplot(x=\"Activity\",data=train_df)\n",
    "plt.xticks(x=train_df['Activity'],rotation='vertical')\n",
    "plt.show()"
   ]
  },
  {
   "cell_type": "code",
   "execution_count": null,
   "id": "0778761d",
   "metadata": {
    "execution": {
     "iopub.execute_input": "2023-06-09T13:28:09.492590Z",
     "iopub.status.busy": "2023-06-09T13:28:09.492064Z",
     "iopub.status.idle": "2023-06-09T13:28:12.247411Z",
     "shell.execute_reply": "2023-06-09T13:28:12.246270Z"
    },
    "papermill": {
     "duration": 2.780391,
     "end_time": "2023-06-09T13:28:12.252296",
     "exception": false,
     "start_time": "2023-06-09T13:28:09.471905",
     "status": "completed"
    },
    "tags": []
   },
   "outputs": [],
   "source": [
    "fig = plt.figure(figsize=(10, 10))\n",
    "axs = plt.axes(projection=\"3d\")\n",
    "\n",
    "for i in range(len(mean_X)):\n",
    "    axs.scatter(train_df[mean_X[i]].values, train_df[mean_Y[i]].values, train_df[mean_Z[i]].values+i, label=mean_X[i][0:-8])\n",
    "\n",
    "plt.title(\"all mean values\")\n",
    "plt.xlabel(\"X coordinate\")\n",
    "plt.ylabel(\"Y coordinate\")\n",
    "plt.legend(loc=\"upper left\")\n",
    "plt.show()"
   ]
  },
  {
   "cell_type": "code",
   "execution_count": null,
   "id": "aeaae0ff",
   "metadata": {
    "execution": {
     "iopub.execute_input": "2023-06-09T13:28:12.302253Z",
     "iopub.status.busy": "2023-06-09T13:28:12.301880Z",
     "iopub.status.idle": "2023-06-09T13:28:12.316813Z",
     "shell.execute_reply": "2023-06-09T13:28:12.315673Z"
    },
    "papermill": {
     "duration": 0.04252,
     "end_time": "2023-06-09T13:28:12.319044",
     "exception": false,
     "start_time": "2023-06-09T13:28:12.276524",
     "status": "completed"
    },
    "tags": []
   },
   "outputs": [],
   "source": [
    "np.unique(train_df[\"Activity\"])"
   ]
  },
  {
   "cell_type": "code",
   "execution_count": null,
   "id": "a5da0dc8",
   "metadata": {
    "execution": {
     "iopub.execute_input": "2023-06-09T13:28:12.370636Z",
     "iopub.status.busy": "2023-06-09T13:28:12.370226Z",
     "iopub.status.idle": "2023-06-09T13:28:13.519113Z",
     "shell.execute_reply": "2023-06-09T13:28:13.517991Z"
    },
    "papermill": {
     "duration": 1.178421,
     "end_time": "2023-06-09T13:28:13.521885",
     "exception": false,
     "start_time": "2023-06-09T13:28:12.343464",
     "status": "completed"
    },
    "tags": []
   },
   "outputs": [],
   "source": [
    "fig, axs = plt.subplots(1, 3, figsize=(25, 5))\n",
    "sns.boxenplot(ax = axs[0], x=\"Activity\", y=\"angle(X,gravityMean)\", data=train_df)\n",
    "sns.boxenplot(ax = axs[1], x=\"Activity\", y=\"angle(Y,gravityMean)\", data=train_df)\n",
    "sns.boxenplot(ax = axs[2], x=\"Activity\", y=\"angle(Z,gravityMean)\", data=train_df)\n",
    "\n",
    "axs[0].set_title(\"angle(X,gravityMean)\")\n",
    "axs[0].set_xticklabels(['LAYING', 'SITTING', 'STANDING', 'WALKING', 'WALKING_DOWNSTAIRS',\n",
    "       'WALKING_UPSTAIRS'], rotation=\"vertical\")\n",
    "\n",
    "axs[1].set_title(\"angle(Y,gravityMean)\")\n",
    "axs[1].set_xticklabels(['LAYING', 'SITTING', 'STANDING', 'WALKING', 'WALKING_DOWNSTAIRS',\n",
    "       'WALKING_UPSTAIRS'], rotation=\"vertical\")\n",
    "\n",
    "axs[2].set_title(\"angle(Z,gravityMean)\")\n",
    "axs[2].set_xticklabels(['LAYING', 'SITTING', 'STANDING', 'WALKING', 'WALKING_DOWNSTAIRS',\n",
    "       'WALKING_UPSTAIRS'], rotation=\"vertical\")"
   ]
  },
  {
   "cell_type": "code",
   "execution_count": null,
   "id": "5be43c90",
   "metadata": {
    "execution": {
     "iopub.execute_input": "2023-06-09T13:28:13.575958Z",
     "iopub.status.busy": "2023-06-09T13:28:13.575554Z",
     "iopub.status.idle": "2023-06-09T13:28:13.586575Z",
     "shell.execute_reply": "2023-06-09T13:28:13.585646Z"
    },
    "papermill": {
     "duration": 0.040441,
     "end_time": "2023-06-09T13:28:13.589055",
     "exception": false,
     "start_time": "2023-06-09T13:28:13.548614",
     "status": "completed"
    },
    "tags": []
   },
   "outputs": [],
   "source": [
    "min_X = []\n",
    "min_Y = []\n",
    "min_Z = []\n",
    "\n",
    "mean_X = []\n",
    "mean_Y = []\n",
    "mean_Z = []\n",
    "\n",
    "max_X = []\n",
    "max_Y = []\n",
    "max_Z = []\n",
    "\n",
    "for i in columns:\n",
    "    if \"min\" in i:\n",
    "        if \"X\" in i:\n",
    "            min_X.append(i)\n",
    "            mean_X.append(i.replace(\"min\", \"mean\"))\n",
    "            max_X.append(i.replace(\"min\", \"max\"))\n",
    "        elif \"Y\" in i:\n",
    "            min_Y.append(i)\n",
    "            mean_Y.append(i.replace(\"min\", \"mean\"))\n",
    "            max_Y.append(i.replace(\"min\", \"mean\"))\n",
    "        elif \"Z\" in i:\n",
    "            min_Z.append(i)\n",
    "            mean_Z.append(i.replace(\"min\", \"mean\"))\n",
    "            max_Z.append(i.replace(\"min\", \"mean\"))\n",
    "\n",
    "        \n",
    "print(min_X)\n",
    "print(min_Y)\n",
    "print(min_Z, \"\\n\")\n",
    "\n",
    "print(mean_X)\n",
    "print(mean_Y)\n",
    "print(mean_Z, \"\\n\")\n",
    "\n",
    "print(max_X)\n",
    "print(max_Y)\n",
    "print(max_Z, \"\\n\")"
   ]
  },
  {
   "cell_type": "code",
   "execution_count": null,
   "id": "92ae5c82",
   "metadata": {
    "execution": {
     "iopub.execute_input": "2023-06-09T13:28:13.641753Z",
     "iopub.status.busy": "2023-06-09T13:28:13.641376Z",
     "iopub.status.idle": "2023-06-09T13:28:21.550831Z",
     "shell.execute_reply": "2023-06-09T13:28:21.549472Z"
    },
    "papermill": {
     "duration": 7.943779,
     "end_time": "2023-06-09T13:28:21.558224",
     "exception": false,
     "start_time": "2023-06-09T13:28:13.614445",
     "status": "completed"
    },
    "tags": []
   },
   "outputs": [],
   "source": [
    "fig, axs = plt.subplots(len(min_X), 3, figsize=(20, 30))\n",
    "\n",
    "for i in range(len(min_X)):\n",
    "    mean_min_X = train_df[mean_X[i]] - train_df[min_X[i]]\n",
    "    max_mean_X = train_df[max_X[i]] - train_df[mean_X[i]]\n",
    "    max_min_X = train_df[max_X[i]] - train_df[min_X[i]]\n",
    "    \n",
    "#     mean_min_Y = train_df[mean_Y[i]] - train_df[min_Y[i]]\n",
    "#     max_mean_Y = train_df[max_Y[i]] - train_df[mean_Y[i]]\n",
    "#     max_min_Y = train_df[max_Y[i]] - train_df[min_Y[i]]\n",
    "    \n",
    "#     mean_min_Z = train_df[mean_Z[i]] - train_df[min_Z[i]]\n",
    "#     max_mean_Z = train_df[max_Z[i]] - train_df[mean_Z[i]]\n",
    "#     max_min_Z = train_df[max_Z[i]] - train_df[min_Z[i]]\n",
    "    \n",
    "    sns.boxplot(ax=axs[i, 0], x=train_df[\"Activity\"], y=max_mean_X)\n",
    "    sns.boxplot(ax=axs[i, 1], x=train_df[\"Activity\"], y=mean_min_X)\n",
    "    sns.boxplot(ax=axs[i, 2], x=train_df[\"Activity\"], y=max_min_X)\n",
    "    \n",
    "    axs[i, 0].set_title(\"Diff X \"+mean_X[i][0:-8]+\"(max - mean)\")\n",
    "    axs[i, 0].set_xticklabels(['LAYING', 'SITTING', 'STANDING', 'WALKING', 'WALKING_DOWNSTAIRS',\n",
    "           'WALKING_UPSTAIRS'], rotation=12)\n",
    "\n",
    "    axs[i, 1].set_title(\"Diff X \"+mean_X[i][0:-8]+\"(mean - min)\")\n",
    "    axs[i, 1].set_xticklabels(['LAYING', 'SITTING', 'STANDING', 'WALKING', 'WALKING_DOWNSTAIRS',\n",
    "           'WALKING_UPSTAIRS'], rotation=12)\n",
    "    \n",
    "    axs[i, 0].set_title(\"Diff X \"+mean_X[i][0:-8]+\"(max - min)\")\n",
    "    axs[i, 0].set_xticklabels(['LAYING', 'SITTING', 'STANDING', 'WALKING', 'WALKING_DOWNSTAIRS',\n",
    "           'WALKING_UPSTAIRS'], rotation=12)\n",
    "    \n",
    "plt.tight_layout()\n"
   ]
  },
  {
   "cell_type": "markdown",
   "id": "4781829e",
   "metadata": {
    "papermill": {
     "duration": 0.032964,
     "end_time": "2023-06-09T13:28:21.624673",
     "exception": false,
     "start_time": "2023-06-09T13:28:21.591709",
     "status": "completed"
    },
    "tags": []
   },
   "source": [
    "## Difference of features of Y coordinates in Accelerometer and Gyroscorpe"
   ]
  },
  {
   "cell_type": "code",
   "execution_count": null,
   "id": "c2e2e838",
   "metadata": {
    "execution": {
     "iopub.execute_input": "2023-06-09T13:28:21.693775Z",
     "iopub.status.busy": "2023-06-09T13:28:21.692635Z",
     "iopub.status.idle": "2023-06-09T13:28:29.372352Z",
     "shell.execute_reply": "2023-06-09T13:28:29.371065Z"
    },
    "papermill": {
     "duration": 7.722175,
     "end_time": "2023-06-09T13:28:29.380117",
     "exception": false,
     "start_time": "2023-06-09T13:28:21.657942",
     "status": "completed"
    },
    "tags": []
   },
   "outputs": [],
   "source": [
    "\n",
    "fig, axs = plt.subplots(len(min_X), 3, figsize=(20, 30))\n",
    "\n",
    "for i in range(len(min_X)):\n",
    "    \n",
    "    mean_min_Y = train_df[mean_Y[i]] - train_df[min_Y[i]]\n",
    "    max_mean_Y = train_df[max_Y[i]] - train_df[mean_Y[i]]\n",
    "    max_min_Y = train_df[max_Y[i]] - train_df[min_Y[i]]\n",
    "    \n",
    "    sns.boxplot(ax=axs[i, 0], x=train_df[\"Activity\"], y=max_mean_Y)\n",
    "    sns.boxplot(ax=axs[i, 1], x=train_df[\"Activity\"], y=mean_min_Y)\n",
    "    sns.boxplot(ax=axs[i, 2], x=train_df[\"Activity\"], y=max_min_Y)\n",
    "    \n",
    "    axs[i, 0].set_title(\"Diff Y \"+mean_X[i][0:-8]+\"(max - mean)\")\n",
    "    axs[i, 0].set_xticklabels(['LAYING', 'SITTING', 'STANDING', 'WALKING', 'WALKING_DOWNSTAIRS',\n",
    "           'WALKING_UPSTAIRS'], rotation=12)\n",
    "\n",
    "    axs[i, 1].set_title(\"Diff Y \"+mean_X[i][0:-8]+\"(mean - min)\")\n",
    "    axs[i, 1].set_xticklabels(['LAYING', 'SITTING', 'STANDING', 'WALKING', 'WALKING_DOWNSTAIRS',\n",
    "           'WALKING_UPSTAIRS'], rotation=12)\n",
    "    \n",
    "    axs[i, 0].set_title(\"Diff Y \"+mean_X[i][0:-8]+\"(max - min)\")\n",
    "    axs[i, 0].set_xticklabels(['LAYING', 'SITTING', 'STANDING', 'WALKING', 'WALKING_DOWNSTAIRS',\n",
    "           'WALKING_UPSTAIRS'], rotation=12)\n",
    "    \n",
    "plt.tight_layout()\n"
   ]
  },
  {
   "cell_type": "markdown",
   "id": "77c4078e",
   "metadata": {
    "papermill": {
     "duration": 0.0406,
     "end_time": "2023-06-09T13:28:29.462066",
     "exception": false,
     "start_time": "2023-06-09T13:28:29.421466",
     "status": "completed"
    },
    "tags": []
   },
   "source": [
    "## Difference of features of Z coordinates in Accelerometer and Gyroscorpe"
   ]
  },
  {
   "cell_type": "code",
   "execution_count": null,
   "id": "61c9bba2",
   "metadata": {
    "execution": {
     "iopub.execute_input": "2023-06-09T13:28:29.545499Z",
     "iopub.status.busy": "2023-06-09T13:28:29.545085Z",
     "iopub.status.idle": "2023-06-09T13:28:37.093727Z",
     "shell.execute_reply": "2023-06-09T13:28:37.092313Z"
    },
    "papermill": {
     "duration": 7.598212,
     "end_time": "2023-06-09T13:28:37.100843",
     "exception": false,
     "start_time": "2023-06-09T13:28:29.502631",
     "status": "completed"
    },
    "tags": []
   },
   "outputs": [],
   "source": [
    "\n",
    "\n",
    "fig, axs = plt.subplots(len(min_X), 3, figsize=(20, 30))\n",
    "\n",
    "for i in range(len(min_X)):\n",
    "    \n",
    "    mean_min_Z = train_df[mean_Z[i]] - train_df[min_Z[i]]\n",
    "    max_mean_Z = train_df[max_Z[i]] - train_df[mean_Z[i]]\n",
    "    max_min_Z = train_df[max_Z[i]] - train_df[min_Z[i]]\n",
    "    \n",
    "    sns.boxplot(ax=axs[i, 0], x=train_df[\"Activity\"], y=max_mean_Z)\n",
    "    sns.boxplot(ax=axs[i, 1], x=train_df[\"Activity\"], y=mean_min_Z)\n",
    "    sns.boxplot(ax=axs[i, 2], x=train_df[\"Activity\"], y=max_min_Z)\n",
    "    \n",
    "    axs[i, 0].set_title(\"Diff Z \"+mean_X[i][0:-8]+\"(max - mean)\")\n",
    "    axs[i, 0].set_xticklabels(['LAYING', 'SITTING', 'STANDING', 'WALKING', 'WALKING_DOWNSTAIRS',\n",
    "           'WALKING_UPSTAIRS'], rotation=12)\n",
    "\n",
    "    axs[i, 1].set_title(\"Diff Z \"+mean_X[i][0:-8]+\"(mean - min)\")\n",
    "    axs[i, 1].set_xticklabels(['LAYING', 'SITTING', 'STANDING', 'WALKING', 'WALKING_DOWNSTAIRS',\n",
    "           'WALKING_UPSTAIRS'], rotation=12)\n",
    "    \n",
    "    axs[i, 0].set_title(\"Diff Z \"+mean_X[i][0:-8]+\"(max - min)\")\n",
    "    axs[i, 0].set_xticklabels(['LAYING', 'SITTING', 'STANDING', 'WALKING', 'WALKING_DOWNSTAIRS',\n",
    "           'WALKING_UPSTAIRS'], rotation=12)\n",
    "    \n",
    "plt.tight_layout()\n"
   ]
  },
  {
   "cell_type": "code",
   "execution_count": null,
   "id": "c5284499",
   "metadata": {
    "execution": {
     "iopub.execute_input": "2023-06-09T13:28:37.206061Z",
     "iopub.status.busy": "2023-06-09T13:28:37.205635Z",
     "iopub.status.idle": "2023-06-09T13:28:39.319694Z",
     "shell.execute_reply": "2023-06-09T13:28:39.318755Z"
    },
    "papermill": {
     "duration": 2.172421,
     "end_time": "2023-06-09T13:28:39.325056",
     "exception": false,
     "start_time": "2023-06-09T13:28:37.152635",
     "status": "completed"
    },
    "tags": []
   },
   "outputs": [],
   "source": [
    "fig = plt.figure(figsize=(10, 10))\n",
    "axs = plt.axes(projection=\"3d\")\n",
    "\n",
    "for i in range(len(min_X)):\n",
    "    axs.scatter(train_df[min_X[i]].values, train_df[min_Y[i]].values, train_df[min_Y[i]].values+i, label=min_X[i][0:-8])\n",
    "\n",
    "plt.title(\"all minimum values\")\n",
    "plt.xlabel(\"X coordinate\")\n",
    "plt.ylabel(\"Y coordinate\")\n",
    "plt.legend(loc=\"upper left\")\n",
    "plt.show()"
   ]
  },
  {
   "cell_type": "code",
   "execution_count": null,
   "id": "11881242",
   "metadata": {
    "execution": {
     "iopub.execute_input": "2023-06-09T13:28:39.441726Z",
     "iopub.status.busy": "2023-06-09T13:28:39.441019Z",
     "iopub.status.idle": "2023-06-09T13:28:41.879660Z",
     "shell.execute_reply": "2023-06-09T13:28:41.878574Z"
    },
    "papermill": {
     "duration": 2.502832,
     "end_time": "2023-06-09T13:28:41.884507",
     "exception": false,
     "start_time": "2023-06-09T13:28:39.381675",
     "status": "completed"
    },
    "tags": []
   },
   "outputs": [],
   "source": [
    "fig = plt.figure(figsize=(10, 10))\n",
    "axs = plt.axes(projection=\"3d\")\n",
    "\n",
    "for i in range(len(max_X)):\n",
    "    axs.scatter(train_df[min_X[i]].values, train_df[max_Y[i]].values, train_df[max_Y[i]].values+i, label=max_X[i][0:-8])\n",
    "\n",
    "plt.title(\"all maximu, values\")\n",
    "plt.xlabel(\"X coordinate\")\n",
    "plt.ylabel(\"Y coordinate\")\n",
    "plt.legend(loc=\"upper left\")\n",
    "plt.show()"
   ]
  },
  {
   "cell_type": "code",
   "execution_count": null,
   "id": "7e7a2709",
   "metadata": {
    "execution": {
     "iopub.execute_input": "2023-06-09T13:28:42.016031Z",
     "iopub.status.busy": "2023-06-09T13:28:42.015038Z",
     "iopub.status.idle": "2023-06-09T13:28:42.586168Z",
     "shell.execute_reply": "2023-06-09T13:28:42.585307Z"
    },
    "papermill": {
     "duration": 0.641494,
     "end_time": "2023-06-09T13:28:42.590166",
     "exception": false,
     "start_time": "2023-06-09T13:28:41.948672",
     "status": "completed"
    },
    "tags": []
   },
   "outputs": [],
   "source": [
    "fig = plt.figure(figsize=(10, 10))\n",
    "axs = plt.axes(projection=\"3d\")\n",
    "\n",
    "angle_X_gravityMean = train_df[\"angle(X,gravityMean)\"].values\n",
    "angle_Y_gravityMean = train_df[\"angle(Y,gravityMean)\"].values\n",
    "angle_Z_gravityMean = train_df[\"angle(Z,gravityMean)\"].values\n",
    "\n",
    "axs.scatter(angle_X_gravityMean, angle_Y_gravityMean, angle_Z_gravityMean)\n",
    "\n",
    "plt.title(\"Gravity mean Coordinates\")\n",
    "plt.xlabel(\"Gravity Mean X coordinate\")\n",
    "plt.ylabel(\"Gravity Mean Y coordinate\")\n",
    "# plt.set_zlabel(\"Gravity Mean Z coordinate\")\n",
    "plt.legend(loc=\"upper left\")\n",
    "plt.show()"
   ]
  },
  {
   "cell_type": "code",
   "execution_count": null,
   "id": "3c59627e",
   "metadata": {
    "execution": {
     "iopub.execute_input": "2023-06-09T13:28:42.731259Z",
     "iopub.status.busy": "2023-06-09T13:28:42.730809Z",
     "iopub.status.idle": "2023-06-09T13:28:42.737190Z",
     "shell.execute_reply": "2023-06-09T13:28:42.736470Z"
    },
    "papermill": {
     "duration": 0.080063,
     "end_time": "2023-06-09T13:28:42.739176",
     "exception": false,
     "start_time": "2023-06-09T13:28:42.659113",
     "status": "completed"
    },
    "tags": []
   },
   "outputs": [],
   "source": [
    "def Graph_Drawing(history, title):\n",
    "    x = np.arange(len(history.history[\"val_accuracy\"]))\n",
    "\n",
    "    plt.plot(x, history.history[\"loss\"], label=\"loss\")\n",
    "    plt.plot(x, history.history[\"val_loss\"], label=\"val_loss\")\n",
    "\n",
    "    plt.plot(x, history.history[\"accuracy\"], label=\"accuracy\")\n",
    "    plt.plot(x, history.history[\"val_accuracy\"], label=\"val_accuracy\")\n",
    "    \n",
    "    plt.title(title)\n",
    "\n",
    "    plt.legend()"
   ]
  },
  {
   "cell_type": "markdown",
   "id": "5112fcdd",
   "metadata": {
    "papermill": {
     "duration": 0.06413,
     "end_time": "2023-06-09T13:28:42.867841",
     "exception": false,
     "start_time": "2023-06-09T13:28:42.803711",
     "status": "completed"
    },
    "tags": []
   },
   "source": [
    "# Applying Machine Learning models"
   ]
  },
  {
   "cell_type": "code",
   "execution_count": null,
   "id": "73d7bb74",
   "metadata": {
    "execution": {
     "iopub.execute_input": "2023-06-09T13:28:43.000380Z",
     "iopub.status.busy": "2023-06-09T13:28:42.999272Z",
     "iopub.status.idle": "2023-06-09T13:28:43.215717Z",
     "shell.execute_reply": "2023-06-09T13:28:43.214563Z"
    },
    "papermill": {
     "duration": 0.285506,
     "end_time": "2023-06-09T13:28:43.218254",
     "exception": false,
     "start_time": "2023-06-09T13:28:42.932748",
     "status": "completed"
    },
    "tags": []
   },
   "outputs": [],
   "source": [
    "import sklearn\n",
    "from sklearn.ensemble import RandomForestClassifier\n",
    "from sklearn.svm import SVC\n",
    "from sklearn.neighbors import KNeighborsClassifier"
   ]
  },
  {
   "cell_type": "code",
   "execution_count": null,
   "id": "9a2871dd",
   "metadata": {
    "execution": {
     "iopub.execute_input": "2023-06-09T13:28:43.350834Z",
     "iopub.status.busy": "2023-06-09T13:28:43.350056Z",
     "iopub.status.idle": "2023-06-09T13:28:43.354913Z",
     "shell.execute_reply": "2023-06-09T13:28:43.354141Z"
    },
    "papermill": {
     "duration": 0.074221,
     "end_time": "2023-06-09T13:28:43.356945",
     "exception": false,
     "start_time": "2023-06-09T13:28:43.282724",
     "status": "completed"
    },
    "tags": []
   },
   "outputs": [],
   "source": [
    "knn = KNeighborsClassifier(n_neighbors=3)\n",
    "rfc = RandomForestClassifier()\n",
    "svc = SVC()"
   ]
  },
  {
   "cell_type": "code",
   "execution_count": null,
   "id": "8c5fda4b",
   "metadata": {
    "execution": {
     "iopub.execute_input": "2023-06-09T13:28:43.489029Z",
     "iopub.status.busy": "2023-06-09T13:28:43.488350Z",
     "iopub.status.idle": "2023-06-09T13:28:59.077117Z",
     "shell.execute_reply": "2023-06-09T13:28:59.076000Z"
    },
    "papermill": {
     "duration": 15.658589,
     "end_time": "2023-06-09T13:28:59.079843",
     "exception": false,
     "start_time": "2023-06-09T13:28:43.421254",
     "status": "completed"
    },
    "tags": []
   },
   "outputs": [],
   "source": [
    "knn.fit( train_features, train_labels )\n",
    "\n",
    "rfc.fit( train_features, train_labels )\n",
    "\n",
    "svc.fit( train_features, train_labels )"
   ]
  },
  {
   "cell_type": "code",
   "execution_count": null,
   "id": "dfdda1d7",
   "metadata": {
    "execution": {
     "iopub.execute_input": "2023-06-09T13:28:59.225003Z",
     "iopub.status.busy": "2023-06-09T13:28:59.224264Z",
     "iopub.status.idle": "2023-06-09T13:29:03.208143Z",
     "shell.execute_reply": "2023-06-09T13:29:03.207039Z"
    },
    "papermill": {
     "duration": 4.058685,
     "end_time": "2023-06-09T13:29:03.210998",
     "exception": false,
     "start_time": "2023-06-09T13:28:59.152313",
     "status": "completed"
    },
    "tags": []
   },
   "outputs": [],
   "source": [
    "knn_score = knn.score( test_features, test_labels )\n",
    "\n",
    "rfc_score = rfc.score( test_features, test_labels )\n",
    "\n",
    "svc_score = svc.score( test_features, test_labels )\n"
   ]
  },
  {
   "cell_type": "code",
   "execution_count": null,
   "id": "60a061b4",
   "metadata": {
    "execution": {
     "iopub.execute_input": "2023-06-09T13:29:03.348483Z",
     "iopub.status.busy": "2023-06-09T13:29:03.347769Z",
     "iopub.status.idle": "2023-06-09T13:29:03.353747Z",
     "shell.execute_reply": "2023-06-09T13:29:03.352575Z"
    },
    "papermill": {
     "duration": 0.078613,
     "end_time": "2023-06-09T13:29:03.357341",
     "exception": false,
     "start_time": "2023-06-09T13:29:03.278728",
     "status": "completed"
    },
    "tags": []
   },
   "outputs": [],
   "source": [
    "print(knn_score*100, \"%\")\n",
    "print(rfc_score*100, \"%\")\n",
    "print(svc_score*100, \"%\")"
   ]
  },
  {
   "cell_type": "markdown",
   "id": "1573ed34",
   "metadata": {
    "papermill": {
     "duration": 0.067314,
     "end_time": "2023-06-09T13:29:03.492116",
     "exception": false,
     "start_time": "2023-06-09T13:29:03.424802",
     "status": "completed"
    },
    "tags": []
   },
   "source": [
    "# Applying Deep Learning models"
   ]
  },
  {
   "cell_type": "code",
   "execution_count": null,
   "id": "1011dcc1",
   "metadata": {
    "execution": {
     "iopub.execute_input": "2023-06-09T13:29:03.630150Z",
     "iopub.status.busy": "2023-06-09T13:29:03.629398Z",
     "iopub.status.idle": "2023-06-09T13:29:11.807877Z",
     "shell.execute_reply": "2023-06-09T13:29:11.806647Z"
    },
    "papermill": {
     "duration": 8.250632,
     "end_time": "2023-06-09T13:29:11.810535",
     "exception": false,
     "start_time": "2023-06-09T13:29:03.559903",
     "status": "completed"
    },
    "tags": []
   },
   "outputs": [],
   "source": [
    "import tensorflow as tf\n",
    "import keras\n",
    "from keras import layers\n",
    "from keras.callbacks import EarlyStopping"
   ]
  },
  {
   "cell_type": "code",
   "execution_count": null,
   "id": "1547df48",
   "metadata": {
    "execution": {
     "iopub.execute_input": "2023-06-09T13:29:11.950710Z",
     "iopub.status.busy": "2023-06-09T13:29:11.949842Z",
     "iopub.status.idle": "2023-06-09T13:29:11.962038Z",
     "shell.execute_reply": "2023-06-09T13:29:11.961223Z"
    },
    "papermill": {
     "duration": 0.084489,
     "end_time": "2023-06-09T13:29:11.963997",
     "exception": false,
     "start_time": "2023-06-09T13:29:11.879508",
     "status": "completed"
    },
    "tags": []
   },
   "outputs": [],
   "source": [
    "def ANN_Model(data):\n",
    "    model = keras.Sequential([\n",
    "        layers.Input(shape=data.shape[1:]),\n",
    "\n",
    "        layers.Dense(100, activation=\"relu\"),\n",
    "    #         layers.Dropout(0.1),\n",
    "    #         layers.BatchNormalization(),\n",
    "\n",
    "        layers.Dense(64, activation=\"relu\"),\n",
    "    #         layers.Dropout(0.25),\n",
    "    #         layers.BatchNormalization(),\n",
    "\n",
    "        layers.Dense(6, activation=\"softmax\"),\n",
    "\n",
    "    ], name=\"MLP_Sequential\")\n",
    "\n",
    "    model.compile(optimizer=\"adam\", loss=\"sparse_categorical_crossentropy\", metrics=[\"accuracy\"])\n",
    "\n",
    "    #     print(model.summary())\n",
    "\n",
    "    return model\n",
    "\n",
    "# Convolutional Neural Network Model\n",
    "\n",
    "def CNN_Model(data):\n",
    "    model = keras.Sequential(name=\"CNN_Sequential\")\n",
    "    print(data.shape[1:])\n",
    "    model.add( layers.Input(shape=data.shape[1:]) )\n",
    "    model.add( layers.Conv1D(64, 3, activation=\"relu\", name=\"conv_1\") )\n",
    "#         layers.Dropout(0.1),\n",
    "    model.add( layers.Conv1D(32, 3, activation=\"relu\", name=\"conv_2\") )\n",
    "#         layers.Dropout(0.1),\n",
    "    \n",
    "    model.add(layers.Flatten())\n",
    "\n",
    "    model.add( layers.Dense(64, activation=\"relu\", name=\"dense_1\") )\n",
    "    model.add( layers.Dense(128, activation=\"relu\", name=\"dense_2\") )\n",
    "    model.add( layers.Dense(6, activation=\"softmax\", name=\"output\") )\n",
    "    \n",
    "    \n",
    "    \n",
    "    model.compile(optimizer=tf.keras.optimizers.SGD(), \n",
    "                  loss=\"sparse_categorical_crossentropy\", metrics=[\"accuracy\"])\n",
    "    \n",
    "    print(model.summary())\n",
    "    \n",
    "    return model"
   ]
  },
  {
   "cell_type": "markdown",
   "id": "f5fc2928",
   "metadata": {
    "papermill": {
     "duration": 0.06789,
     "end_time": "2023-06-09T13:29:12.099771",
     "exception": false,
     "start_time": "2023-06-09T13:29:12.031881",
     "status": "completed"
    },
    "tags": []
   },
   "source": [
    "## Training Models"
   ]
  },
  {
   "cell_type": "markdown",
   "id": "7fc701fd",
   "metadata": {
    "papermill": {
     "duration": 0.067501,
     "end_time": "2023-06-09T13:29:12.234407",
     "exception": false,
     "start_time": "2023-06-09T13:29:12.166906",
     "status": "completed"
    },
    "tags": []
   },
   "source": [
    "### Artifical Neural Network"
   ]
  },
  {
   "cell_type": "code",
   "execution_count": null,
   "id": "6bbf00b1",
   "metadata": {
    "execution": {
     "iopub.execute_input": "2023-06-09T13:29:12.372435Z",
     "iopub.status.busy": "2023-06-09T13:29:12.372032Z",
     "iopub.status.idle": "2023-06-09T13:30:13.934963Z",
     "shell.execute_reply": "2023-06-09T13:30:13.933969Z"
    },
    "papermill": {
     "duration": 61.634918,
     "end_time": "2023-06-09T13:30:13.937176",
     "exception": false,
     "start_time": "2023-06-09T13:29:12.302258",
     "status": "completed"
    },
    "scrolled": true,
    "tags": []
   },
   "outputs": [],
   "source": [
    "ann_model = ANN_Model(train_features)\n",
    "ann_model.summary()\n",
    "\n",
    "earlystopping = EarlyStopping(patience=30, monitor=\"val_accuracy\", restore_best_weights=True)\n",
    "ann_history = ann_model.fit(train_features, train_labels, epochs=100, callbacks = [earlystopping],\n",
    "         validation_data=(test_features, test_labels) )"
   ]
  },
  {
   "cell_type": "code",
   "execution_count": null,
   "id": "e1417f60",
   "metadata": {
    "execution": {
     "iopub.execute_input": "2023-06-09T13:30:14.277504Z",
     "iopub.status.busy": "2023-06-09T13:30:14.276985Z",
     "iopub.status.idle": "2023-06-09T13:30:14.674895Z",
     "shell.execute_reply": "2023-06-09T13:30:14.673810Z"
    },
    "papermill": {
     "duration": 0.56957,
     "end_time": "2023-06-09T13:30:14.677059",
     "exception": false,
     "start_time": "2023-06-09T13:30:14.107489",
     "status": "completed"
    },
    "tags": []
   },
   "outputs": [],
   "source": [
    "Graph_Drawing(ann_history, \"ANN History\")"
   ]
  },
  {
   "cell_type": "code",
   "execution_count": null,
   "id": "b10a9592",
   "metadata": {
    "execution": {
     "iopub.execute_input": "2023-06-09T13:30:15.014470Z",
     "iopub.status.busy": "2023-06-09T13:30:15.014027Z",
     "iopub.status.idle": "2023-06-09T13:30:16.185139Z",
     "shell.execute_reply": "2023-06-09T13:30:16.183993Z"
    },
    "papermill": {
     "duration": 1.343192,
     "end_time": "2023-06-09T13:30:16.187747",
     "exception": false,
     "start_time": "2023-06-09T13:30:14.844555",
     "status": "completed"
    },
    "tags": []
   },
   "outputs": [],
   "source": [
    "ann_predict = ann_model.predict( test_features )\n",
    "original = test_labels\n",
    "\n",
    "ann_predict = np.argmax(ann_predict, axis=1)\n",
    "cf = metrics.confusion_matrix(ann_predict, original)\n",
    "\n",
    "sns.heatmap(cf, annot=True)"
   ]
  },
  {
   "cell_type": "code",
   "execution_count": null,
   "id": "486ed6ae",
   "metadata": {
    "execution": {
     "iopub.execute_input": "2023-06-09T13:30:16.537972Z",
     "iopub.status.busy": "2023-06-09T13:30:16.537013Z",
     "iopub.status.idle": "2023-06-09T13:30:16.819688Z",
     "shell.execute_reply": "2023-06-09T13:30:16.818388Z"
    },
    "papermill": {
     "duration": 0.457283,
     "end_time": "2023-06-09T13:30:16.821958",
     "exception": false,
     "start_time": "2023-06-09T13:30:16.364675",
     "status": "completed"
    },
    "tags": []
   },
   "outputs": [],
   "source": [
    "ann_model.evaluate(test_features, test_labels.replace(np.unique(test_labels),  [0, 1, 2, 3, 4, 5]))"
   ]
  },
  {
   "cell_type": "markdown",
   "id": "646173ed",
   "metadata": {
    "papermill": {
     "duration": 0.170959,
     "end_time": "2023-06-09T13:30:17.162820",
     "exception": false,
     "start_time": "2023-06-09T13:30:16.991861",
     "status": "completed"
    },
    "tags": []
   },
   "source": [
    "### Covolutional Neural Network"
   ]
  },
  {
   "cell_type": "code",
   "execution_count": null,
   "id": "ab99629b",
   "metadata": {
    "execution": {
     "iopub.execute_input": "2023-06-09T13:30:17.505415Z",
     "iopub.status.busy": "2023-06-09T13:30:17.504341Z",
     "iopub.status.idle": "2023-06-09T13:30:17.510248Z",
     "shell.execute_reply": "2023-06-09T13:30:17.509348Z"
    },
    "papermill": {
     "duration": 0.178896,
     "end_time": "2023-06-09T13:30:17.512431",
     "exception": false,
     "start_time": "2023-06-09T13:30:17.333535",
     "status": "completed"
    },
    "tags": []
   },
   "outputs": [],
   "source": [
    "train_features = train_features.values.reshape(train_features.shape[0], train_features.shape[1], 1)\n",
    "test_features = test_features.values.reshape(test_features.shape[0], test_features.shape[1], 1)"
   ]
  },
  {
   "cell_type": "code",
   "execution_count": null,
   "id": "36f16304",
   "metadata": {
    "execution": {
     "iopub.execute_input": "2023-06-09T13:30:17.855663Z",
     "iopub.status.busy": "2023-06-09T13:30:17.855032Z",
     "iopub.status.idle": "2023-06-09T13:39:45.951420Z",
     "shell.execute_reply": "2023-06-09T13:39:45.950333Z"
    },
    "papermill": {
     "duration": 568.271075,
     "end_time": "2023-06-09T13:39:45.953918",
     "exception": false,
     "start_time": "2023-06-09T13:30:17.682843",
     "status": "completed"
    },
    "scrolled": true,
    "tags": []
   },
   "outputs": [],
   "source": [
    "cnn_model = CNN_Model(train_features)\n",
    "cnn_model.summary()\n",
    "\n",
    "earlystopping = EarlyStopping(patience=30, monitor=\"val_accuracy\", restore_best_weights=True)\n",
    "cnn_history = cnn_model.fit( train_features,\n",
    "                            train_labels, epochs=100, callbacks = [earlystopping],\n",
    "                            validation_data=(test_features, test_labels) )"
   ]
  },
  {
   "cell_type": "code",
   "execution_count": null,
   "id": "854f99b8",
   "metadata": {
    "execution": {
     "iopub.execute_input": "2023-06-09T13:39:47.751831Z",
     "iopub.status.busy": "2023-06-09T13:39:47.751408Z",
     "iopub.status.idle": "2023-06-09T13:39:48.130675Z",
     "shell.execute_reply": "2023-06-09T13:39:48.129610Z"
    },
    "papermill": {
     "duration": 1.313941,
     "end_time": "2023-06-09T13:39:48.133103",
     "exception": false,
     "start_time": "2023-06-09T13:39:46.819162",
     "status": "completed"
    },
    "tags": []
   },
   "outputs": [],
   "source": [
    "Graph_Drawing(cnn_history, \"CNN History\")"
   ]
  },
  {
   "cell_type": "code",
   "execution_count": null,
   "id": "e84649b3",
   "metadata": {
    "execution": {
     "iopub.execute_input": "2023-06-09T13:39:49.883599Z",
     "iopub.status.busy": "2023-06-09T13:39:49.883180Z",
     "iopub.status.idle": "2023-06-09T13:39:49.889938Z",
     "shell.execute_reply": "2023-06-09T13:39:49.888867Z"
    },
    "papermill": {
     "duration": 0.870775,
     "end_time": "2023-06-09T13:39:49.892263",
     "exception": false,
     "start_time": "2023-06-09T13:39:49.021488",
     "status": "completed"
    },
    "tags": []
   },
   "outputs": [],
   "source": [
    "test_features.shape"
   ]
  },
  {
   "cell_type": "code",
   "execution_count": null,
   "id": "30fe5ad3",
   "metadata": {
    "execution": {
     "iopub.execute_input": "2023-06-09T13:39:51.683527Z",
     "iopub.status.busy": "2023-06-09T13:39:51.682801Z",
     "iopub.status.idle": "2023-06-09T13:39:52.958595Z",
     "shell.execute_reply": "2023-06-09T13:39:52.957589Z"
    },
    "papermill": {
     "duration": 2.208418,
     "end_time": "2023-06-09T13:39:52.960966",
     "exception": false,
     "start_time": "2023-06-09T13:39:50.752548",
     "status": "completed"
    },
    "tags": []
   },
   "outputs": [],
   "source": [
    "cnn_predict = cnn_model.predict( test_features )\n",
    "original = test_labels\n",
    "\n",
    "cnn_predict = np.argmax(cnn_predict, axis=1)\n",
    "cf = metrics.confusion_matrix(cnn_predict, original)\n",
    "\n",
    "sns.heatmap(cf, annot=True)"
   ]
  },
  {
   "cell_type": "code",
   "execution_count": null,
   "id": "9619f6bf",
   "metadata": {
    "execution": {
     "iopub.execute_input": "2023-06-09T13:39:54.760293Z",
     "iopub.status.busy": "2023-06-09T13:39:54.759794Z",
     "iopub.status.idle": "2023-06-09T13:39:55.510548Z",
     "shell.execute_reply": "2023-06-09T13:39:55.509713Z"
    },
    "papermill": {
     "duration": 1.681487,
     "end_time": "2023-06-09T13:39:55.512951",
     "exception": false,
     "start_time": "2023-06-09T13:39:53.831464",
     "status": "completed"
    },
    "tags": []
   },
   "outputs": [],
   "source": [
    "cnn_model.evaluate(test_features, test_labels)"
   ]
  },
  {
   "cell_type": "code",
   "execution_count": null,
   "id": "461f51a8",
   "metadata": {
    "papermill": {
     "duration": 0.866756,
     "end_time": "2023-06-09T13:39:57.241725",
     "exception": false,
     "start_time": "2023-06-09T13:39:56.374969",
     "status": "completed"
    },
    "tags": []
   },
   "outputs": [],
   "source": []
  }
 ],
 "metadata": {
  "kernelspec": {
   "display_name": "Python 3",
   "language": "python",
   "name": "python3"
  },
  "language_info": {
   "codemirror_mode": {
    "name": "ipython",
    "version": 3
   },
   "file_extension": ".py",
   "mimetype": "text/x-python",
   "name": "python",
   "nbconvert_exporter": "python",
   "pygments_lexer": "ipython3",
   "version": "3.10.10"
  },
  "papermill": {
   "default_parameters": {},
   "duration": 728.38427,
   "end_time": "2023-06-09T13:40:01.277758",
   "environment_variables": {},
   "exception": null,
   "input_path": "__notebook__.ipynb",
   "output_path": "__notebook__.ipynb",
   "parameters": {},
   "start_time": "2023-06-09T13:27:52.893488",
   "version": "2.4.0"
  }
 },
 "nbformat": 4,
 "nbformat_minor": 5
}
