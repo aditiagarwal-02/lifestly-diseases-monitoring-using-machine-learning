{
 "cells": [
  {
   "cell_type": "code",
   "execution_count": null,
   "id": "4c3af240",
   "metadata": {
    "execution": {
     "iopub.execute_input": "2023-09-16T22:34:05.311660Z",
     "iopub.status.busy": "2023-09-16T22:34:05.311224Z",
     "iopub.status.idle": "2023-09-16T22:34:08.439512Z",
     "shell.execute_reply": "2023-09-16T22:34:08.438294Z"
    },
    "papermill": {
     "duration": 3.142693,
     "end_time": "2023-09-16T22:34:08.443168",
     "exception": false,
     "start_time": "2023-09-16T22:34:05.300475",
     "status": "completed"
    },
    "tags": []
   },
   "outputs": [],
   "source": [
    "import pandas as pd\n",
    "import numpy as np\n",
    "import os,sys\n",
    "import xgboost as xgb\n",
    "from sklearn.preprocessing import MinMaxScaler\n",
    "from sklearn.model_selection import train_test_split\n",
    "from sklearn.metrics import accuracy_score\n",
    "import matplotlib.pyplot as plt\n",
    "import seaborn as sns\n",
    "import warnings\n",
    "warnings.filterwarnings('ignore')"
   ]
  },
  {
   "cell_type": "code",
   "execution_count": null,
   "id": "68ae11ef",
   "metadata": {
    "execution": {
     "iopub.execute_input": "2023-09-16T22:34:08.485913Z",
     "iopub.status.busy": "2023-09-16T22:34:08.485369Z",
     "iopub.status.idle": "2023-09-16T22:34:08.636380Z",
     "shell.execute_reply": "2023-09-16T22:34:08.635318Z"
    },
    "papermill": {
     "duration": 0.164875,
     "end_time": "2023-09-16T22:34:08.639764",
     "exception": false,
     "start_time": "2023-09-16T22:34:08.474889",
     "status": "completed"
    },
    "tags": []
   },
   "outputs": [],
   "source": [
    "df = pd.read_csv(\"/kaggle/input/cardiovascular-disease-dataset/cardio_train.csv\", sep=';')"
   ]
  },
  {
   "cell_type": "code",
   "execution_count": null,
   "id": "12dde4fd",
   "metadata": {
    "execution": {
     "iopub.execute_input": "2023-09-16T22:34:08.678989Z",
     "iopub.status.busy": "2023-09-16T22:34:08.678574Z",
     "iopub.status.idle": "2023-09-16T22:34:08.686848Z",
     "shell.execute_reply": "2023-09-16T22:34:08.685603Z"
    },
    "papermill": {
     "duration": 0.021297,
     "end_time": "2023-09-16T22:34:08.689378",
     "exception": false,
     "start_time": "2023-09-16T22:34:08.668081",
     "status": "completed"
    },
    "tags": []
   },
   "outputs": [],
   "source": [
    "df.shape"
   ]
  },
  {
   "cell_type": "code",
   "execution_count": null,
   "id": "02bac279",
   "metadata": {
    "execution": {
     "iopub.execute_input": "2023-09-16T22:34:08.710406Z",
     "iopub.status.busy": "2023-09-16T22:34:08.709757Z",
     "iopub.status.idle": "2023-09-16T22:34:08.736721Z",
     "shell.execute_reply": "2023-09-16T22:34:08.735556Z"
    },
    "papermill": {
     "duration": 0.040521,
     "end_time": "2023-09-16T22:34:08.739323",
     "exception": false,
     "start_time": "2023-09-16T22:34:08.698802",
     "status": "completed"
    },
    "tags": []
   },
   "outputs": [],
   "source": [
    "df.head(5)"
   ]
  },
  {
   "cell_type": "code",
   "execution_count": null,
   "id": "e2a1d552",
   "metadata": {
    "execution": {
     "iopub.execute_input": "2023-09-16T22:34:08.779876Z",
     "iopub.status.busy": "2023-09-16T22:34:08.779428Z",
     "iopub.status.idle": "2023-09-16T22:34:08.821845Z",
     "shell.execute_reply": "2023-09-16T22:34:08.820925Z"
    },
    "papermill": {
     "duration": 0.055959,
     "end_time": "2023-09-16T22:34:08.824022",
     "exception": false,
     "start_time": "2023-09-16T22:34:08.768063",
     "status": "completed"
    },
    "tags": []
   },
   "outputs": [],
   "source": [
    "df.duplicated().sum()"
   ]
  },
  {
   "cell_type": "code",
   "execution_count": null,
   "id": "6c8d6806",
   "metadata": {
    "execution": {
     "iopub.execute_input": "2023-09-16T22:34:08.865433Z",
     "iopub.status.busy": "2023-09-16T22:34:08.864523Z",
     "iopub.status.idle": "2023-09-16T22:34:08.875876Z",
     "shell.execute_reply": "2023-09-16T22:34:08.874653Z"
    },
    "papermill": {
     "duration": 0.02512,
     "end_time": "2023-09-16T22:34:08.878468",
     "exception": false,
     "start_time": "2023-09-16T22:34:08.853348",
     "status": "completed"
    },
    "tags": []
   },
   "outputs": [],
   "source": [
    "df.isnull().sum()"
   ]
  },
  {
   "cell_type": "code",
   "execution_count": null,
   "id": "1e9ab118",
   "metadata": {
    "execution": {
     "iopub.execute_input": "2023-09-16T22:34:08.900805Z",
     "iopub.status.busy": "2023-09-16T22:34:08.900070Z",
     "iopub.status.idle": "2023-09-16T22:34:08.907495Z",
     "shell.execute_reply": "2023-09-16T22:34:08.906423Z"
    },
    "papermill": {
     "duration": 0.021121,
     "end_time": "2023-09-16T22:34:08.909671",
     "exception": false,
     "start_time": "2023-09-16T22:34:08.888550",
     "status": "completed"
    },
    "tags": []
   },
   "outputs": [],
   "source": [
    "df.columns"
   ]
  },
  {
   "cell_type": "code",
   "execution_count": null,
   "id": "6bd1f42e",
   "metadata": {
    "execution": {
     "iopub.execute_input": "2023-09-16T22:34:08.931869Z",
     "iopub.status.busy": "2023-09-16T22:34:08.931123Z",
     "iopub.status.idle": "2023-09-16T22:34:08.948136Z",
     "shell.execute_reply": "2023-09-16T22:34:08.946912Z"
    },
    "papermill": {
     "duration": 0.031081,
     "end_time": "2023-09-16T22:34:08.950737",
     "exception": false,
     "start_time": "2023-09-16T22:34:08.919656",
     "status": "completed"
    },
    "tags": []
   },
   "outputs": [],
   "source": [
    "df.skew()"
   ]
  },
  {
   "cell_type": "code",
   "execution_count": null,
   "id": "ab8d8485",
   "metadata": {
    "execution": {
     "iopub.execute_input": "2023-09-16T22:34:08.974084Z",
     "iopub.status.busy": "2023-09-16T22:34:08.972781Z",
     "iopub.status.idle": "2023-09-16T22:34:09.000942Z",
     "shell.execute_reply": "2023-09-16T22:34:08.999751Z"
    },
    "papermill": {
     "duration": 0.042796,
     "end_time": "2023-09-16T22:34:09.003899",
     "exception": false,
     "start_time": "2023-09-16T22:34:08.961103",
     "status": "completed"
    },
    "tags": []
   },
   "outputs": [],
   "source": [
    "df=df[df.ap_hi<=250]\n",
    "df=df[df.ap_lo<=150]\n",
    "df=df[df.weight<=125]\n",
    "df=df[df.height<=200]"
   ]
  },
  {
   "cell_type": "code",
   "execution_count": null,
   "id": "c325788d",
   "metadata": {
    "execution": {
     "iopub.execute_input": "2023-09-16T22:34:09.048274Z",
     "iopub.status.busy": "2023-09-16T22:34:09.047879Z",
     "iopub.status.idle": "2023-09-16T22:34:11.526508Z",
     "shell.execute_reply": "2023-09-16T22:34:11.525143Z"
    },
    "papermill": {
     "duration": 2.493817,
     "end_time": "2023-09-16T22:34:11.529763",
     "exception": false,
     "start_time": "2023-09-16T22:34:09.035946",
     "status": "completed"
    },
    "tags": []
   },
   "outputs": [],
   "source": [
    "x=df.loc[:,df.columns!='cardio'].values[:,1:]\n",
    "x1=df.loc[:,df.columns!='cardio']\n",
    "y=df.loc[:,'cardio'].values\n",
    "y1=df.loc[:,'cardio']\n",
    "x1.hist(figsize=(15,10))\n",
    "plt.show()"
   ]
  },
  {
   "cell_type": "code",
   "execution_count": null,
   "id": "a9f170f3",
   "metadata": {
    "execution": {
     "iopub.execute_input": "2023-09-16T22:34:11.578769Z",
     "iopub.status.busy": "2023-09-16T22:34:11.577305Z",
     "iopub.status.idle": "2023-09-16T22:34:11.589277Z",
     "shell.execute_reply": "2023-09-16T22:34:11.588110Z"
    },
    "papermill": {
     "duration": 0.027695,
     "end_time": "2023-09-16T22:34:11.592007",
     "exception": false,
     "start_time": "2023-09-16T22:34:11.564312",
     "status": "completed"
    },
    "tags": []
   },
   "outputs": [],
   "source": [
    "scaler=MinMaxScaler((-1,1))\n",
    "x1=scaler.fit_transform(x)\n",
    "y1=y"
   ]
  },
  {
   "cell_type": "code",
   "execution_count": null,
   "id": "d9e7eae4",
   "metadata": {
    "execution": {
     "iopub.execute_input": "2023-09-16T22:34:11.640900Z",
     "iopub.status.busy": "2023-09-16T22:34:11.639717Z",
     "iopub.status.idle": "2023-09-16T22:34:11.657897Z",
     "shell.execute_reply": "2023-09-16T22:34:11.656551Z"
    },
    "papermill": {
     "duration": 0.034103,
     "end_time": "2023-09-16T22:34:11.660885",
     "exception": false,
     "start_time": "2023-09-16T22:34:11.626782",
     "status": "completed"
    },
    "tags": []
   },
   "outputs": [],
   "source": [
    "\n",
    "xtrain,xtest,ytrain,ytest=train_test_split(x1, y1, test_size=0.24,random_state=42)"
   ]
  },
  {
   "cell_type": "code",
   "execution_count": null,
   "id": "d24bdc7e",
   "metadata": {
    "execution": {
     "iopub.execute_input": "2023-09-16T22:34:13.986377Z",
     "iopub.status.busy": "2023-09-16T22:34:13.985977Z",
     "iopub.status.idle": "2023-09-16T22:34:14.281915Z",
     "shell.execute_reply": "2023-09-16T22:34:14.280632Z"
    },
    "papermill": {
     "duration": 0.311664,
     "end_time": "2023-09-16T22:34:14.284549",
     "exception": false,
     "start_time": "2023-09-16T22:34:13.972885",
     "status": "completed"
    },
    "tags": []
   },
   "outputs": [],
   "source": [
    "from sklearn.metrics import confusion_matrix\n",
    "import seaborn as sns\n",
    "import matplotlib.pyplot as plt\n",
    "\n",
    "def print_conf_matrix(ytest,predict):\n",
    "\n",
    "    # Create the confusion matrix\n",
    "    cm = confusion_matrix(ytest, predict)\n",
    "\n",
    "    # Plot the confusion matrix heatmap\n",
    "    plt.figure(figsize=(6, 4))\n",
    "    fg = sns.heatmap(cm, annot=True, cmap=\"Reds\", fmt='d') \n",
    "    figure = fg.get_figure()\n",
    "\n",
    "    # Add labels and title\n",
    "    plt.xlabel('Predicted')\n",
    "    plt.ylabel('Actual')\n",
    "    plt.title(\"Output Confusion Matrix\")\n",
    "    plt.show()\n",
    "\n",
    "    print('True Positive Cases : {}'.format(cm[1][1]))\n",
    "    print('True Negative Cases : {}'.format(cm[0][0]))\n",
    "    print('False Positive Cases : {}'.format(cm[0][1]))\n",
    "    print('False Negative Cases : {}'.format(cm[1][0]))\n",
    "\n",
    "    pre = round(8486 / (8486 + 2767),3)\n",
    "    print(\"The Precision is:\", pre)\n",
    "    rec = round(8486 / (8486 + 3794),3)\n",
    "    print(\"The Recall is:\", rec)\n",
    "    f1_score = round(2 * (pre * rec) / (pre + rec),3)\n",
    "    print(\"The F1 Score is:\", f1_score)"
   ]
  },
  {
   "cell_type": "markdown",
   "metadata": {},
   "source": [
    "XGBoost"
   ]
  },
  {
   "cell_type": "code",
   "execution_count": null,
   "id": "7e2e95ab",
   "metadata": {
    "execution": {
     "iopub.execute_input": "2023-09-16T22:34:11.710415Z",
     "iopub.status.busy": "2023-09-16T22:34:11.710004Z",
     "iopub.status.idle": "2023-09-16T22:34:13.934274Z",
     "shell.execute_reply": "2023-09-16T22:34:13.933298Z"
    },
    "papermill": {
     "duration": 2.239745,
     "end_time": "2023-09-16T22:34:13.936929",
     "exception": false,
     "start_time": "2023-09-16T22:34:11.697184",
     "status": "completed"
    },
    "tags": []
   },
   "outputs": [],
   "source": [
    "# Train the model\n",
    "from xgboost import XGBClassifier\n",
    "model=XGBClassifier()\n",
    "model.fit(xtrain,ytrain)\n",
    "predict=model.predict(xtest)\n",
    "print_conf_matrix(ytest,predict)"
   ]
  },
  {
   "cell_type": "markdown",
   "metadata": {},
   "source": [
    "Naive Bayes"
   ]
  },
  {
   "cell_type": "code",
   "execution_count": null,
   "metadata": {},
   "outputs": [],
   "source": [
    "from sklearn.naive_bayes import GaussianNB\n",
    "\n",
    "model = GaussianNB()\n",
    "model.fit(xtrain,ytrain)\n",
    "predict=model.predict(xtest)\n",
    "print_conf_matrix(ytest,predict)"
   ]
  },
  {
   "cell_type": "markdown",
   "metadata": {},
   "source": [
    "K-Nearest Neighbors"
   ]
  },
  {
   "cell_type": "code",
   "execution_count": null,
   "metadata": {},
   "outputs": [],
   "source": [
    "from sklearn.neighbors import KNeighborsClassifier\n",
    "model = KNeighborsClassifier(n_neighbors = 3)  # n_neighbors means k\n",
    "model.fit(xtrain,ytrain)\n",
    "\n",
    "predict=model.predict(xtest)\n",
    "print_conf_matrix(ytest,predict)"
   ]
  },
  {
   "cell_type": "markdown",
   "metadata": {},
   "source": [
    "SVM"
   ]
  },
  {
   "cell_type": "code",
   "execution_count": null,
   "metadata": {},
   "outputs": [],
   "source": [
    "from sklearn.svm import SVC\n",
    "\n",
    "model = SVC()\n",
    "model.fit(xtrain,ytrain)\n",
    "predict=model.predict(xtest)\n",
    "print_conf_matrix(ytest,predict)"
   ]
  },
  {
   "cell_type": "markdown",
   "metadata": {},
   "source": [
    "Random Forest"
   ]
  },
  {
   "cell_type": "code",
   "execution_count": null,
   "metadata": {},
   "outputs": [],
   "source": [
    "from sklearn.ensemble import RandomForestClassifier\n",
    "\n",
    "model = RandomForestClassifier(n_estimators=100, random_state=42)\n",
    "model.fit(xtrain,ytrain)\n",
    "predict=model.predict(xtest)\n",
    "print_conf_matrix(ytest,predict)\n"
   ]
  },
  {
   "cell_type": "markdown",
   "metadata": {},
   "source": [
    "Logistic Regression"
   ]
  },
  {
   "cell_type": "code",
   "execution_count": null,
   "metadata": {},
   "outputs": [],
   "source": [
    "from sklearn.linear_model import LogisticRegression\n",
    "\n",
    "model = LogisticRegression()\n",
    "model.fit(xtrain,ytrain)\n",
    "predict=model.predict(xtest)\n",
    "print_conf_matrix(ytest,predict)"
   ]
  }
 ],
 "metadata": {
  "kernelspec": {
   "display_name": "Python 3",
   "language": "python",
   "name": "python3"
  },
  "language_info": {
   "codemirror_mode": {
    "name": "ipython",
    "version": 3
   },
   "file_extension": ".py",
   "mimetype": "text/x-python",
   "name": "python",
   "nbconvert_exporter": "python",
   "pygments_lexer": "ipython3",
   "version": "3.10.12"
  },
  "papermill": {
   "default_parameters": {},
   "duration": 15.026349,
   "end_time": "2023-09-16T22:34:15.198196",
   "environment_variables": {},
   "exception": null,
   "input_path": "__notebook__.ipynb",
   "output_path": "__notebook__.ipynb",
   "parameters": {},
   "start_time": "2023-09-16T22:34:00.171847",
   "version": "2.4.0"
  }
 },
 "nbformat": 4,
 "nbformat_minor": 5
}
