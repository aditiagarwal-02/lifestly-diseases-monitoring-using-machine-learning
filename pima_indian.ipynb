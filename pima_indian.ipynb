{
 "cells": [
  {
   "cell_type": "markdown",
   "metadata": {},
   "source": [
    "Diabetes prediction using Pima Indian dataset"
   ]
  },
  {
   "cell_type": "code",
   "execution_count": null,
   "metadata": {
    "execution": {
     "iopub.execute_input": "2021-03-14T20:49:32.577899Z",
     "iopub.status.busy": "2021-03-14T20:49:32.577403Z",
     "iopub.status.idle": "2021-03-14T20:49:33.824767Z",
     "shell.execute_reply": "2021-03-14T20:49:33.824240Z"
    },
    "papermill": {
     "duration": 1.271384,
     "end_time": "2021-03-14T20:49:33.824900",
     "exception": false,
     "start_time": "2021-03-14T20:49:32.553516",
     "status": "completed"
    },
    "tags": []
   },
   "outputs": [],
   "source": [
    "\n",
    "import seaborn as sns\n",
    "from matplotlib import pyplot as plt\n",
    "import missingno as msno\n",
    "from sklearn import preprocessing\n",
    "from sklearn.neighbors import LocalOutlierFactor\n",
    "from sklearn.preprocessing import LabelEncoder\n",
    "from sklearn.ensemble import RandomForestClassifier\n",
    "from sklearn.metrics import *\n",
    "from sklearn.model_selection import GridSearchCV\n",
    "from sklearn.model_selection import RandomizedSearchCV\n",
    "from sklearn.model_selection import train_test_split\n",
    "import warnings\n",
    "warnings.filterwarnings(\"ignore\")\n",
    "\n",
    "pd.set_option(\"display.float_format\",lambda x: \"%.5f\" % x)\n",
    "pd.set_option(\"display.max_rows\",None)\n",
    "pd.set_option(\"display.max_columns\",None)\n",
    "\n",
    "df = pd.read_csv(\"/kaggle/input/pima-indians-diabetes-database/diabetes.csv\")\n",
    "df.head()"
   ]
  },
  {
   "cell_type": "code",
   "execution_count": null,
   "metadata": {
    "execution": {
     "iopub.execute_input": "2021-03-14T20:49:34.004701Z",
     "iopub.status.busy": "2021-03-14T20:49:34.003762Z",
     "iopub.status.idle": "2021-03-14T20:49:34.015388Z",
     "shell.execute_reply": "2021-03-14T20:49:34.014880Z"
    },
    "papermill": {
     "duration": 0.033439,
     "end_time": "2021-03-14T20:49:34.015518",
     "exception": false,
     "start_time": "2021-03-14T20:49:33.982079",
     "status": "completed"
    },
    "tags": []
   },
   "outputs": [],
   "source": [
    "\n",
    "cols = [\"Glucose\", \"BloodPressure\", \"SkinThickness\", \"Insulin\", \"BMI\"]\n",
    "for col in cols:\n",
    "    df[col].replace(0, np.NaN, inplace=True)"
   ]
  },
  {
   "cell_type": "code",
   "execution_count": null,
   "metadata": {
    "execution": {
     "iopub.execute_input": "2021-03-14T20:49:34.059951Z",
     "iopub.status.busy": "2021-03-14T20:49:34.059392Z",
     "iopub.status.idle": "2021-03-14T20:49:34.672039Z",
     "shell.execute_reply": "2021-03-14T20:49:34.671593Z"
    },
    "papermill": {
     "duration": 0.637156,
     "end_time": "2021-03-14T20:49:34.672196",
     "exception": false,
     "start_time": "2021-03-14T20:49:34.035040",
     "status": "completed"
    },
    "tags": []
   },
   "outputs": [],
   "source": [
    "msno.bar(df)"
   ]
  },
  {
   "cell_type": "code",
   "execution_count": null,
   "metadata": {
    "execution": {
     "iopub.execute_input": "2021-03-14T20:49:34.738365Z",
     "iopub.status.busy": "2021-03-14T20:49:34.737793Z",
     "iopub.status.idle": "2021-03-14T20:49:35.035140Z",
     "shell.execute_reply": "2021-03-14T20:49:35.034540Z"
    },
    "papermill": {
     "duration": 0.341379,
     "end_time": "2021-03-14T20:49:35.035285",
     "exception": false,
     "start_time": "2021-03-14T20:49:34.693906",
     "status": "completed"
    },
    "tags": []
   },
   "outputs": [],
   "source": [
    "msno.heatmap(df)"
   ]
  },
  {
   "cell_type": "code",
   "execution_count": null,
   "metadata": {
    "execution": {
     "iopub.execute_input": "2021-03-14T20:49:35.145703Z",
     "iopub.status.busy": "2021-03-14T20:49:35.145043Z",
     "iopub.status.idle": "2021-03-14T20:49:35.164570Z",
     "shell.execute_reply": "2021-03-14T20:49:35.165003Z"
    },
    "papermill": {
     "duration": 0.061736,
     "end_time": "2021-03-14T20:49:35.165210",
     "exception": false,
     "start_time": "2021-03-14T20:49:35.103474",
     "status": "completed"
    },
    "tags": []
   },
   "outputs": [],
   "source": [
    "\n",
    "for col in df.columns:\n",
    "    df.loc[(df[\"Outcome\"] == 0) & (df[col].isnull()), col] = df[df[\"Outcome\"] == 0][col].median()\n",
    "    df.loc[(df[\"Outcome\"] == 1) & (df[col].isnull()), col] = df[df[\"Outcome\"] == 1][col].median()"
   ]
  },
  {
   "cell_type": "code",
   "execution_count": null,
   "metadata": {
    "execution": {
     "iopub.execute_input": "2021-03-14T20:49:35.214772Z",
     "iopub.status.busy": "2021-03-14T20:49:35.214177Z",
     "iopub.status.idle": "2021-03-14T20:49:36.571210Z",
     "shell.execute_reply": "2021-03-14T20:49:36.571633Z"
    },
    "papermill": {
     "duration": 1.384081,
     "end_time": "2021-03-14T20:49:36.571802",
     "exception": false,
     "start_time": "2021-03-14T20:49:35.187721",
     "status": "completed"
    },
    "tags": []
   },
   "outputs": [],
   "source": [
    "# Outliers visualization\n",
    "for col in df.columns:\n",
    "    if col != \"Outcome\":\n",
    "        sns.catplot(\"Outcome\", col, data = df)"
   ]
  },
  {
   "cell_type": "code",
   "execution_count": null,
   "metadata": {
    "execution": {
     "iopub.execute_input": "2021-03-14T20:49:36.689230Z",
     "iopub.status.busy": "2021-03-14T20:49:36.688541Z",
     "iopub.status.idle": "2021-03-14T20:49:37.727628Z",
     "shell.execute_reply": "2021-03-14T20:49:37.727208Z"
    },
    "papermill": {
     "duration": 1.124339,
     "end_time": "2021-03-14T20:49:37.727748",
     "exception": false,
     "start_time": "2021-03-14T20:49:36.603409",
     "status": "completed"
    },
    "tags": []
   },
   "outputs": [],
   "source": [
    "df.hist(figsize = (15,7));"
   ]
  },
  {
   "cell_type": "code",
   "execution_count": null,
   "metadata": {
    "execution": {
     "iopub.execute_input": "2021-03-14T20:49:37.803652Z",
     "iopub.status.busy": "2021-03-14T20:49:37.803017Z",
     "iopub.status.idle": "2021-03-14T20:49:37.805740Z",
     "shell.execute_reply": "2021-03-14T20:49:37.805165Z"
    },
    "papermill": {
     "duration": 0.04559,
     "end_time": "2021-03-14T20:49:37.805855",
     "exception": false,
     "start_time": "2021-03-14T20:49:37.760265",
     "status": "completed"
    },
    "tags": []
   },
   "outputs": [],
   "source": [
    "# Outliers\n",
    "def outlier_thresholds(dataframe, col_name, th1=0.05, th3=0.95):\n",
    "    quartile1 = dataframe[col_name].quantile(th1)\n",
    "    quartile3 = dataframe[col_name].quantile(th3)\n",
    "    interquantile_range = quartile3 - quartile1\n",
    "    up_limit = quartile3 + 1.5 * interquantile_range\n",
    "    low_limit = quartile1 - 1.5 * interquantile_range\n",
    "    return low_limit, up_limit\n",
    "\n",
    "\n",
    "def check_outlier(dataframe, col_name):\n",
    "    low_limit, up_limit = outlier_thresholds(dataframe, col_name)\n",
    "    if dataframe[(dataframe[col_name] > up_limit) | (dataframe[col_name] < low_limit)].any(axis=None):\n",
    "        return True\n",
    "    else:\n",
    "        return False\n",
    "\n",
    "def replace_with_thresholds(dataframe, col_name, th1=0.05, th3=0.95):\n",
    "    low_limit, up_limit = outlier_thresholds(dataframe, col_name, th1, th3)\n",
    "    if low_limit > 0:\n",
    "        dataframe.loc[(dataframe[col_name] < low_limit), col_name] = low_limit\n",
    "        dataframe.loc[(dataframe[col_name] > up_limit), col_name] = up_limit\n",
    "    else:\n",
    "        dataframe.loc[(dataframe[col_name] > up_limit), col_name] = up_limit"
   ]
  },
  {
   "cell_type": "code",
   "execution_count": null,
   "metadata": {
    "execution": {
     "iopub.execute_input": "2021-03-14T20:49:37.878448Z",
     "iopub.status.busy": "2021-03-14T20:49:37.877592Z",
     "iopub.status.idle": "2021-03-14T20:49:37.881907Z",
     "shell.execute_reply": "2021-03-14T20:49:37.881277Z"
    },
    "papermill": {
     "duration": 0.042217,
     "end_time": "2021-03-14T20:49:37.882041",
     "exception": false,
     "start_time": "2021-03-14T20:49:37.839824",
     "status": "completed"
    },
    "tags": []
   },
   "outputs": [],
   "source": [
    "# Numerical columns\n",
    "num_cols = [col for col in df.columns if df[col].dtypes in [int, float]\n",
    "            and df[col].nunique() > 10]"
   ]
  },
  {
   "cell_type": "code",
   "execution_count": null,
   "metadata": {
    "execution": {
     "iopub.execute_input": "2021-03-14T20:49:37.955880Z",
     "iopub.status.busy": "2021-03-14T20:49:37.953481Z",
     "iopub.status.idle": "2021-03-14T20:49:37.986609Z",
     "shell.execute_reply": "2021-03-14T20:49:37.987078Z"
    },
    "papermill": {
     "duration": 0.072083,
     "end_time": "2021-03-14T20:49:37.987305",
     "exception": false,
     "start_time": "2021-03-14T20:49:37.915222",
     "status": "completed"
    },
    "tags": []
   },
   "outputs": [],
   "source": [
    "# Check Outliers\n",
    "for col in df.columns:\n",
    "    print(check_outlier(df, col))"
   ]
  },
  {
   "cell_type": "code",
   "execution_count": null,
   "metadata": {
    "execution": {
     "iopub.execute_input": "2021-03-14T20:49:38.061827Z",
     "iopub.status.busy": "2021-03-14T20:49:38.060574Z",
     "iopub.status.idle": "2021-03-14T20:49:38.083669Z",
     "shell.execute_reply": "2021-03-14T20:49:38.082989Z"
    },
    "papermill": {
     "duration": 0.062259,
     "end_time": "2021-03-14T20:49:38.083887",
     "exception": false,
     "start_time": "2021-03-14T20:49:38.021628",
     "status": "completed"
    },
    "tags": []
   },
   "outputs": [],
   "source": [
    "# Replace Outliers\n",
    "for col in df.columns:\n",
    "    replace_with_thresholds(df, col)"
   ]
  },
  {
   "cell_type": "code",
   "execution_count": null,
   "metadata": {
    "execution": {
     "iopub.execute_input": "2021-03-14T20:49:38.337649Z",
     "iopub.status.busy": "2021-03-14T20:49:38.336986Z",
     "iopub.status.idle": "2021-03-14T20:49:38.340095Z",
     "shell.execute_reply": "2021-03-14T20:49:38.339664Z"
    },
    "papermill": {
     "duration": 0.048923,
     "end_time": "2021-03-14T20:49:38.340227",
     "exception": false,
     "start_time": "2021-03-14T20:49:38.291304",
     "status": "completed"
    },
    "tags": []
   },
   "outputs": [],
   "source": [
    "def label_encoder(dataframe, binary_col):\n",
    "    labelencoder = preprocessing.LabelEncoder()\n",
    "    dataframe[binary_col] = labelencoder.fit_transform(dataframe[binary_col])\n",
    "    return dataframe\n",
    "\n",
    "\n",
    "def one_hot_encoder(dataframe, categorical_cols, drop_first=False):\n",
    "    dataframe = pd.get_dummies(dataframe, columns=categorical_cols, drop_first=drop_first)\n",
    "    return dataframe\n",
    "\n",
    "\n",
    "def rare_analyser(dataframe, target, rare_perc):\n",
    "    rare_columns = [col for col in dataframe.columns if dataframe[col].dtypes == 'O'\n",
    "                    and (dataframe[col].value_counts() / len(dataframe) < rare_perc).any(axis=None)]\n",
    "\n",
    "    for col in rare_columns:\n",
    "        print(col, \":\", len(dataframe[col].value_counts()))\n",
    "        print(pd.DataFrame({\"COUNT\": dataframe[col].value_counts(),\n",
    "                            \"RATIO\": dataframe[col].value_counts() / len(dataframe),\n",
    "                            \"TARGET_MEAN\": dataframe.groupby(col)[target].mean()}), end=\"\\n\\n\\n\")\n",
    "\n",
    "\n",
    "def rare_encoder(dataframe, rare_perc):\n",
    "    temp_df = dataframe.copy()\n",
    "\n",
    "    rare_columns = [col for col in temp_df.columns if temp_df[col].dtypes == 'O'\n",
    "                    and (temp_df[col].value_counts() / len(temp_df) < rare_perc).any(axis=None)]\n",
    "\n",
    "    for var in rare_columns:\n",
    "        tmp = temp_df[var].value_counts() / len(temp_df)\n",
    "        rare_labels = tmp[tmp < rare_perc].index\n",
    "        temp_df[var] = np.where(temp_df[var].isin(rare_labels), 'Rare', temp_df[var])\n",
    "\n",
    "    return temp_df"
   ]
  },
  {
   "cell_type": "code",
   "execution_count": null,
   "metadata": {
    "execution": {
     "iopub.execute_input": "2021-03-14T20:49:38.418915Z",
     "iopub.status.busy": "2021-03-14T20:49:38.417006Z",
     "iopub.status.idle": "2021-03-14T20:49:38.428463Z",
     "shell.execute_reply": "2021-03-14T20:49:38.427880Z"
    },
    "papermill": {
     "duration": 0.054274,
     "end_time": "2021-03-14T20:49:38.428587",
     "exception": false,
     "start_time": "2021-03-14T20:49:38.374313",
     "status": "completed"
    },
    "tags": []
   },
   "outputs": [],
   "source": [
    "# New categorical BMI\n",
    "df['NEW_BMI_CAT'] = pd.cut(x=df['BMI'], bins=[0, 18.4, 25.0, 30.0, 70.0],\n",
    "                           labels=['weakness', 'normal', 'slightly_fat', 'obese']).astype('O')\n",
    "\n",
    "# New categorical Glucose\n",
    "df['NEW_GLUCOSE_CAT'] = pd.cut(x=df['Glucose'], bins=[0, 139, 200],\n",
    "                               labels=['Normal', 'Prediabetes']).astype('O')\n",
    "\n",
    "#  New categorical BloodPressure\n",
    "df['NEW_BLOOD_CAT'] = pd.cut(x=df['BloodPressure'], bins=[0, 79, 90, 123],\n",
    "                             labels=['Normal', 'Hypertension_S1', 'Hypertension_S2']).astype('O')\n",
    "\n",
    "# New categorical SkinThickness\n",
    "df['NEW_SKINTHICKNESS_CAT'] = df['SkinThickness'].apply(lambda x: 1 if x <= 18.0 else 0)\n",
    "\n",
    "# New categorical Insulin\n",
    "df['NEW_INSULIN_CAT'] = df['Insulin'].apply(lambda x: 'Normal' if 16.0 <= x <=166   else 'Abnormal')"
   ]
  },
  {
   "cell_type": "code",
   "execution_count": null,
   "metadata": {
    "execution": {
     "iopub.execute_input": "2021-03-14T20:49:38.512137Z",
     "iopub.status.busy": "2021-03-14T20:49:38.511283Z",
     "iopub.status.idle": "2021-03-14T20:49:38.515416Z",
     "shell.execute_reply": "2021-03-14T20:49:38.514879Z"
    },
    "papermill": {
     "duration": 0.053308,
     "end_time": "2021-03-14T20:49:38.515548",
     "exception": false,
     "start_time": "2021-03-14T20:49:38.462240",
     "status": "completed"
    },
    "tags": []
   },
   "outputs": [],
   "source": [
    "df.head()"
   ]
  },
  {
   "cell_type": "code",
   "execution_count": null,
   "metadata": {
    "execution": {
     "iopub.execute_input": "2021-03-14T20:49:38.592197Z",
     "iopub.status.busy": "2021-03-14T20:49:38.591568Z",
     "iopub.status.idle": "2021-03-14T20:49:38.596717Z",
     "shell.execute_reply": "2021-03-14T20:49:38.596193Z"
    },
    "papermill": {
     "duration": 0.04585,
     "end_time": "2021-03-14T20:49:38.596828",
     "exception": false,
     "start_time": "2021-03-14T20:49:38.550978",
     "status": "completed"
    },
    "tags": []
   },
   "outputs": [],
   "source": [
    "# Label Encoding\n",
    "label_cols = [col for col in df.columns if df[col].dtypes == 'O' and df[col].nunique() <= 2]\n",
    "for col in label_cols:\n",
    "    label_encoder(df, col)"
   ]
  },
  {
   "cell_type": "code",
   "execution_count": null,
   "metadata": {
    "execution": {
     "iopub.execute_input": "2021-03-14T20:49:38.672347Z",
     "iopub.status.busy": "2021-03-14T20:49:38.671727Z",
     "iopub.status.idle": "2021-03-14T20:49:38.680296Z",
     "shell.execute_reply": "2021-03-14T20:49:38.679797Z"
    },
    "papermill": {
     "duration": 0.048316,
     "end_time": "2021-03-14T20:49:38.680412",
     "exception": false,
     "start_time": "2021-03-14T20:49:38.632096",
     "status": "completed"
    },
    "tags": []
   },
   "outputs": [],
   "source": [
    "# One_hot Encoding\n",
    "ohe_cols = [col for col in df.columns if 10 >= len(df[col].unique()) > 2]\n",
    "df = one_hot_encoder(df, ohe_cols, drop_first=True)"
   ]
  },
  {
   "cell_type": "code",
   "execution_count": null,
   "metadata": {
    "execution": {
     "iopub.execute_input": "2021-03-14T20:49:38.757535Z",
     "iopub.status.busy": "2021-03-14T20:49:38.756628Z",
     "iopub.status.idle": "2021-03-14T20:49:38.759942Z",
     "shell.execute_reply": "2021-03-14T20:49:38.759521Z"
    },
    "papermill": {
     "duration": 0.04408,
     "end_time": "2021-03-14T20:49:38.760058",
     "exception": false,
     "start_time": "2021-03-14T20:49:38.715978",
     "status": "completed"
    },
    "tags": []
   },
   "outputs": [],
   "source": [
    "df.columns = [col.upper() for col in df.columns]"
   ]
  },
  {
   "cell_type": "code",
   "execution_count": null,
   "metadata": {
    "execution": {
     "iopub.execute_input": "2021-03-14T20:49:38.848461Z",
     "iopub.status.busy": "2021-03-14T20:49:38.847651Z",
     "iopub.status.idle": "2021-03-14T20:49:38.851516Z",
     "shell.execute_reply": "2021-03-14T20:49:38.850974Z"
    },
    "papermill": {
     "duration": 0.054705,
     "end_time": "2021-03-14T20:49:38.851641",
     "exception": false,
     "start_time": "2021-03-14T20:49:38.796936",
     "status": "completed"
    },
    "tags": []
   },
   "outputs": [],
   "source": [
    "df.head()"
   ]
  },
  {
   "cell_type": "code",
   "execution_count": null,
   "metadata": {
    "execution": {
     "iopub.execute_input": "2021-03-14T20:49:39.003783Z",
     "iopub.status.busy": "2021-03-14T20:49:39.003214Z",
     "iopub.status.idle": "2021-03-14T20:49:39.224974Z",
     "shell.execute_reply": "2021-03-14T20:49:39.224409Z"
    },
    "papermill": {
     "duration": 0.265442,
     "end_time": "2021-03-14T20:49:39.225160",
     "exception": false,
     "start_time": "2021-03-14T20:49:38.959718",
     "status": "completed"
    },
    "tags": []
   },
   "outputs": [],
   "source": [
    "y = df[['OUTCOME']]\n",
    "X = df.drop('OUTCOME', axis=1)\n",
    "X_train, X_test, y_train, y_test = train_test_split(X, y, test_size=0.30, random_state=42)\n",
    "\n",
    "rf = RandomForestClassifier().fit(X_train, y_train)\n",
    "y_pred = rf.predict(X_test)"
   ]
  },
  {
   "cell_type": "code",
   "execution_count": null,
   "metadata": {
    "execution": {
     "iopub.execute_input": "2021-03-14T20:49:39.310089Z",
     "iopub.status.busy": "2021-03-14T20:49:39.305102Z",
     "iopub.status.idle": "2021-03-14T20:49:39.322481Z",
     "shell.execute_reply": "2021-03-14T20:49:39.321926Z"
    },
    "papermill": {
     "duration": 0.060706,
     "end_time": "2021-03-14T20:49:39.322604",
     "exception": false,
     "start_time": "2021-03-14T20:49:39.261898",
     "status": "completed"
    },
    "tags": []
   },
   "outputs": [],
   "source": [
    "acc_random_forest = round(rf.score(X_test, y_pred) * 100, 2)\n",
    "acc_random_forest"
   ]
  },
  {
   "cell_type": "code",
   "execution_count": null,
   "metadata": {
    "execution": {
     "iopub.execute_input": "2021-03-14T20:49:39.548849Z",
     "iopub.status.busy": "2021-03-14T20:49:39.548321Z",
     "iopub.status.idle": "2021-03-14T20:50:04.456642Z",
     "shell.execute_reply": "2021-03-14T20:50:04.456038Z"
    },
    "papermill": {
     "duration": 24.952702,
     "end_time": "2021-03-14T20:50:04.456783",
     "exception": false,
     "start_time": "2021-03-14T20:49:39.504081",
     "status": "completed"
    },
    "tags": []
   },
   "outputs": [],
   "source": [
    "rf_params_ = {'max_depth': [3, 6, 10, None],\n",
    "              'max_features': [3, 5, 15],\n",
    "              'n_estimators': [100, 500, 700],\n",
    "              'min_samples_split': [2, 5, 8],\n",
    "              'min_samples_leaf': [1, 3, 5]}\n",
    "\n",
    "rf_model = RandomForestClassifier(random_state=42)\n",
    "\n",
    "rf_cv_model = RandomizedSearchCV(rf_model, rf_params_, cv=5, n_jobs=-1, verbose=1).fit(X_train, y_train)\n",
    "rf_cv_model = RandomForestClassifier(**rf_cv_model.best_params_).fit(X_train, y_train)\n",
    "y_pred = rf_cv_model.predict(X_test)\n",
    "acc_random_forest = round(rf.score(X_test, y_pred) * 100, 2)\n",
    "acc_random_forest"
   ]
  }
 ],
 "metadata": {
  "kernelspec": {
   "display_name": "Python 3",
   "language": "python",
   "name": "python3"
  },
  "language_info": {
   "codemirror_mode": {
    "name": "ipython",
    "version": 3
   },
   "file_extension": ".py",
   "mimetype": "text/x-python",
   "name": "python",
   "nbconvert_exporter": "python",
   "pygments_lexer": "ipython3",
   "version": "3.7.9"
  },
  "papermill": {
   "default_parameters": {},
   "duration": 38.016956,
   "end_time": "2021-03-14T20:50:05.377843",
   "environment_variables": {},
   "exception": null,
   "input_path": "__notebook__.ipynb",
   "output_path": "__notebook__.ipynb",
   "parameters": {},
   "start_time": "2021-03-14T20:49:27.360887",
   "version": "2.2.2"
  }
 },
 "nbformat": 4,
 "nbformat_minor": 4
}
